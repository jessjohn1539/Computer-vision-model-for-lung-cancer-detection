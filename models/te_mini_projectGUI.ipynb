{
 "cells": [
  {
   "cell_type": "markdown",
   "id": "99270f39",
   "metadata": {},
   "source": [
    "CODE WITH GUI AND CAM VISUALISATION:\n",
    "The visualization technique used here to generate the heatmap is commonly known as \"Class Activation Map (CAM)\" or \"Grad-CAM\" (Gradient-weighted Class Activation Mapping). \n",
    "It's based on the idea of using the gradients of the target class flowing into the final convolutional layer to produce a coarse localization map highlighting important regions in the input image for predicting the given class.\n",
    "In the code provided, we're using the gradients of the predicted class with respect to the output feature map of the last convolutional layer to compute the heatmap. \n",
    "This heatmap indicates the regions in the input image that are most influential in the model's decision-making process for predicting the given class."
   ]
  },
  {
   "cell_type": "code",
   "execution_count": 1,
   "id": "9d8aee77",
   "metadata": {},
   "outputs": [
    {
     "name": "stderr",
     "output_type": "stream",
     "text": [
      "c:\\Python311\\Lib\\site-packages\\tqdm\\auto.py:21: TqdmWarning: IProgress not found. Please update jupyter and ipywidgets. See https://ipywidgets.readthedocs.io/en/stable/user_install.html\n",
      "  from .autonotebook import tqdm as notebook_tqdm\n",
      "C:\\Users\\Jess John\\AppData\\Local\\Temp\\ipykernel_12484\\572698079.py:58: GradioDeprecationWarning: Usage of gradio.inputs is deprecated, and will not be supported in the future, please import your component from gradio.components\n",
      "  image = gr.inputs.Image(shape=(250, 250))\n",
      "C:\\Users\\Jess John\\AppData\\Local\\Temp\\ipykernel_12484\\572698079.py:58: GradioDeprecationWarning: `optional` parameter is deprecated, and it has no effect\n",
      "  image = gr.inputs.Image(shape=(250, 250))\n",
      "C:\\Users\\Jess John\\AppData\\Local\\Temp\\ipykernel_12484\\572698079.py:59: GradioDeprecationWarning: Usage of gradio.outputs is deprecated, and will not be supported in the future, please import your components from gradio.components\n",
      "  heatmap_output = gr.outputs.Image(type=\"numpy\")\n",
      "C:\\Users\\Jess John\\AppData\\Local\\Temp\\ipykernel_12484\\572698079.py:60: GradioDeprecationWarning: Usage of gradio.outputs is deprecated, and will not be supported in the future, please import your components from gradio.components\n",
      "  label = gr.outputs.Label()\n",
      "C:\\Users\\Jess John\\AppData\\Local\\Temp\\ipykernel_12484\\572698079.py:60: GradioUnusedKwargWarning: You have unused kwarg parameters in Label, please remove them: {'type': 'auto'}\n",
      "  label = gr.outputs.Label()\n",
      "C:\\Users\\Jess John\\AppData\\Local\\Temp\\ipykernel_12484\\572698079.py:62: GradioUnusedKwargWarning: You have unused kwarg parameters in Interface, please remove them: {'debug': True}\n",
      "  gr.Interface(fn=predict_image_with_heatmap, inputs=image, outputs=[heatmap_output, label], debug=True).launch()\n"
     ]
    },
    {
     "name": "stdout",
     "output_type": "stream",
     "text": [
      "Running on local URL:  http://127.0.0.1:7860\n",
      "\n",
      "To create a public link, set `share=True` in `launch()`.\n"
     ]
    },
    {
     "data": {
      "text/html": [
       "<div><iframe src=\"http://127.0.0.1:7860/\" width=\"100%\" height=\"500\" allow=\"autoplay; camera; microphone; clipboard-read; clipboard-write;\" frameborder=\"0\" allowfullscreen></iframe></div>"
      ],
      "text/plain": [
       "<IPython.core.display.HTML object>"
      ]
     },
     "metadata": {},
     "output_type": "display_data"
    },
    {
     "data": {
      "text/plain": []
     },
     "execution_count": 1,
     "metadata": {},
     "output_type": "execute_result"
    },
    {
     "name": "stdout",
     "output_type": "stream",
     "text": [
      "Predicting image...\n",
      "1/1 [==============================] - 2s 2s/step\n",
      "Predicting image...\n",
      "1/1 [==============================] - 0s 116ms/step\n",
      "Predicting image...\n",
      "1/1 [==============================] - 0s 145ms/step\n",
      "Predicting image...\n",
      "1/1 [==============================] - 0s 118ms/step\n",
      "Predicting image...\n",
      "1/1 [==============================] - 0s 125ms/step\n",
      "Predicting image...\n",
      "1/1 [==============================] - 0s 114ms/step\n"
     ]
    }
   ],
   "source": [
    "import tensorflow as tf\n",
    "import gradio as gr\n",
    "import numpy as np\n",
    "import cv2\n",
    "import matplotlib.pyplot as plt\n",
    "\n",
    "# Load the model\n",
    "loaded_model = tf.keras.models.load_model('efficientnetb1_model.h5')\n",
    "\n",
    "def predict_image_with_heatmap(img):\n",
    "    print(\"Predicting image...\")\n",
    "    \n",
    "    # Resize the image to (256, 256) and convert to a 3D array\n",
    "    img_copy = img.copy()\n",
    "    img_3d = cv2.resize(img_copy, (256, 256))\n",
    "    img_3d = np.array(img_3d).reshape(-1, 256, 256, 3)\n",
    "\n",
    "    # Predict using the loaded model\n",
    "    prediction = loaded_model.predict(img_3d)[0]\n",
    "\n",
    "    class_labels = [\"No Cancer\", \"Adenocarcinoma\", \"Squamous Cell Carcinoma\"]\n",
    "\n",
    "    # Get the index of the class with the highest probability\n",
    "    predicted_class_index = np.argmax(prediction)\n",
    "    \n",
    "    if predicted_class_index < len(class_labels):\n",
    "        predicted_class = class_labels[predicted_class_index]\n",
    "        confidence_percentage = prediction[predicted_class_index] * 100\n",
    "        \n",
    "        # If confidence percentage is above 95%, show prediction, else return \"Wrong Image\"\n",
    "        if confidence_percentage > 99.96:\n",
    "            # Get the output of the last convolutional layer in the model\n",
    "            last_conv_layer = loaded_model.layers[0].get_layer(\"top_activation\")\n",
    "            last_conv_layer_model = tf.keras.Model(loaded_model.layers[0].input, last_conv_layer.output)\n",
    "            with tf.GradientTape() as tape:\n",
    "                conv_outputs = last_conv_layer_model(img_3d)\n",
    "                loss = tf.reduce_mean(conv_outputs[:, :, :, predicted_class_index])\n",
    "            grads = tape.gradient(loss, conv_outputs)\n",
    "            pooled_grads = tf.reduce_mean(grads, axis=(0, 1, 2))\n",
    "            heatmap = tf.reduce_mean(tf.multiply(conv_outputs, pooled_grads), axis=-1)\n",
    "            heatmap = tf.maximum(heatmap, 0) / tf.math.reduce_max(heatmap)\n",
    "            heatmap = heatmap.numpy()[0]\n",
    "            \n",
    "            # Apply heatmap to the original image\n",
    "            heatmap = cv2.resize(heatmap, (img_copy.shape[1], img_copy.shape[0]))\n",
    "            heatmap = cv2.applyColorMap(np.uint8(255 * heatmap), cv2.COLORMAP_JET)\n",
    "            heatmap = cv2.addWeighted(heatmap, 0.5, img_copy, 0.5, 0)\n",
    "            \n",
    "            # Convert heatmap to RGB format for display\n",
    "            heatmap_rgb = cv2.cvtColor(heatmap, cv2.COLOR_BGR2RGB)\n",
    "            \n",
    "            return heatmap_rgb, f\"Predicted: {predicted_class} (Confidence: {confidence_percentage:.2f}%)\"\n",
    "        else:\n",
    "            return None, \"Wrong Image\"\n",
    "    else:\n",
    "        return None, \"Wrong Image\"\n",
    "\n",
    "image = gr.inputs.Image(shape=(250, 250))\n",
    "heatmap_output = gr.outputs.Image(type=\"numpy\")\n",
    "label = gr.outputs.Label()\n",
    "\n",
    "gr.Interface(fn=predict_image_with_heatmap, inputs=image, outputs=[heatmap_output, label], debug=True).launch()\n"
   ]
  }
 ],
 "metadata": {
  "kernelspec": {
   "display_name": "Python 3 (ipykernel)",
   "language": "python",
   "name": "python3"
  },
  "language_info": {
   "codemirror_mode": {
    "name": "ipython",
    "version": 3
   },
   "file_extension": ".py",
   "mimetype": "text/x-python",
   "name": "python",
   "nbconvert_exporter": "python",
   "pygments_lexer": "ipython3",
   "version": "3.11.3"
  }
 },
 "nbformat": 4,
 "nbformat_minor": 5
}
